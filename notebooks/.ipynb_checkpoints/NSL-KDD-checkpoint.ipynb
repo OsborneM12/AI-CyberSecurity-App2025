{
 "cells": [
  {
   "cell_type": "code",
   "execution_count": 1,
   "id": "fac83578",
   "metadata": {},
   "outputs": [
    {
     "name": "stdout",
     "output_type": "stream",
     "text": [
      "Train shape: (125973, 43)\n",
      "Test shape: (22544, 43)\n",
      "\n",
      "Train columns:\n",
      "Index(['id', ''duration'', ''protocol_type'', ''service'', ''flag'',\n",
      "       ''src_bytes'', ''dst_bytes'', ''land'', ''wrong_fragment'', ''urgent'',\n",
      "       ''hot'', ''num_failed_logins'', ''logged_in'', ''num_compromised'',\n",
      "       ''root_shell'', ''su_attempted'', ''num_root'', ''num_file_creations'',\n",
      "       ''num_shells'', ''num_access_files'', ''num_outbound_cmds'',\n",
      "       ''is_host_login'', ''is_guest_login'', ''count'', ''srv_count'',\n",
      "       ''serror_rate'', ''srv_serror_rate'', ''rerror_rate'',\n",
      "       ''srv_rerror_rate'', ''same_srv_rate'', ''diff_srv_rate'',\n",
      "       ''srv_diff_host_rate'', ''dst_host_count'', ''dst_host_srv_count'',\n",
      "       ''dst_host_same_srv_rate'', ''dst_host_diff_srv_rate'',\n",
      "       ''dst_host_same_src_port_rate'', ''dst_host_srv_diff_host_rate'',\n",
      "       ''dst_host_serror_rate'', ''dst_host_srv_serror_rate'',\n",
      "       ''dst_host_rerror_rate'', ''dst_host_srv_rerror_rate'', ''class''],\n",
      "      dtype='object')\n"
     ]
    }
   ],
   "source": [
    "import pandas as pd\n",
    "\n",
    "# Load the training and test datasets\n",
    "train = pd.read_csv(\"../datasets/KDDTrain.csv\")\n",
    "test = pd.read_csv(\"../datasets/KDDTest.csv\")\n",
    "\n",
    "# Quick checks\n",
    "print(\"Train shape:\", train.shape)\n",
    "print(\"Test shape:\", test.shape)\n",
    "print(\"\\nTrain columns:\")\n",
    "print(train.columns)"
   ]
  },
  {
   "cell_type": "code",
   "execution_count": null,
   "id": "fcc86298",
   "metadata": {},
   "outputs": [],
   "source": []
  }
 ],
 "metadata": {
  "kernelspec": {
   "display_name": "Python 3 (ipykernel)",
   "language": "python",
   "name": "python3"
  },
  "language_info": {
   "codemirror_mode": {
    "name": "ipython",
    "version": 3
   },
   "file_extension": ".py",
   "mimetype": "text/x-python",
   "name": "python",
   "nbconvert_exporter": "python",
   "pygments_lexer": "ipython3",
   "version": "3.9.7"
  }
 },
 "nbformat": 4,
 "nbformat_minor": 5
}
